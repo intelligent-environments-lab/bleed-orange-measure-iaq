{
 "cells": [
  {
   "cell_type": "markdown",
   "id": "439298af",
   "metadata": {},
   "source": [
    "# ECJ Beta Test: Data Summary and Exploration\n",
    "A look at the data we gathered as part of the ECJ Beta test."
   ]
  },
  {
   "cell_type": "code",
   "execution_count": 1,
   "id": "729ad922",
   "metadata": {},
   "outputs": [],
   "source": [
    "import sys\n",
    "sys.path.append(\"../\")\n",
    "from src.data import make_airthings_dataset\n",
    "from src.visualization import visualize\n",
    "\n",
    "import pandas as pd\n",
    "import numpy as np\n",
    "\n",
    "from datetime import datetime\n",
    "\n",
    "import warnings\n",
    "warnings.filterwarnings('ignore')\n",
    "\n",
    "%load_ext autoreload\n",
    "%autoreload 2"
   ]
  },
  {
   "cell_type": "markdown",
   "id": "74e756c0",
   "metadata": {},
   "source": [
    "<a id=\"toc\"></a>"
   ]
  },
  {
   "cell_type": "markdown",
   "id": "48ef0f4a",
   "metadata": {},
   "source": [
    "# Table of Contents\n",
    "1. [Experiment Details](#details)\n",
    "2. [Beta Test](#beta)"
   ]
  },
  {
   "cell_type": "markdown",
   "id": "ecce8bbc",
   "metadata": {},
   "source": [
    "---"
   ]
  },
  {
   "cell_type": "markdown",
   "id": "9a0b8b5b",
   "metadata": {},
   "source": [
    "<a id=\"details\"></a>"
   ]
  },
  {
   "cell_type": "markdown",
   "id": "5e3596c9",
   "metadata": {},
   "source": [
    "Two devices were deployed as part of this beta test in a classroom in ECJ and EER. However, we will still import data from the remaining sensors to do a spot-check. \n",
    "\n",
    "Important Dates:\n",
    "* Deployment Start:\n",
    "    * 2154: 04/14/2022 - EER 1.518\n",
    "    * 2168: 04/22/2022 - ECJ 1.202\n",
    "* Deployment End: 05/??/2022"
   ]
  },
  {
   "cell_type": "markdown",
   "id": "9a432d59",
   "metadata": {},
   "source": [
    "---"
   ]
  },
  {
   "cell_type": "markdown",
   "id": "cfed9281",
   "metadata": {},
   "source": [
    "<a id=\"beta\"></a>"
   ]
  },
  {
   "cell_type": "markdown",
   "id": "0c935e2b",
   "metadata": {},
   "source": [
    "[Back to ToC](#toc)\n",
    "# Beta Test"
   ]
  },
  {
   "cell_type": "code",
   "execution_count": 2,
   "id": "3c6c3075",
   "metadata": {},
   "outputs": [],
   "source": [
    "at_data = pd.read_csv(\"../data/processed/airthings-data-20220414-20220513.csv\",\n",
    "                      index_col=\"timestamp\",parse_dates=True,infer_datetime_format=True)"
   ]
  },
  {
   "cell_type": "code",
   "execution_count": 3,
   "id": "c327cf24",
   "metadata": {},
   "outputs": [
    {
     "name": "stdout",
     "output_type": "stream",
     "text": [
      "Number of Devices: 9\n",
      "\t2930040905\n",
      "\t2930041730\n",
      "\t2930041961\n",
      "\t2930042002\n",
      "\t2930042154\n",
      "\t2930042168\n",
      "\t2930042428\n",
      "\t2930042521\n",
      "\t2930042601\n"
     ]
    }
   ],
   "source": [
    "devices = at_data[\"device\"].unique()\n",
    "print(\"Number of Devices:\", len(devices))\n",
    "for device in devices:\n",
    "    print(f\"\\t{device}\")"
   ]
  },
  {
   "cell_type": "code",
   "execution_count": 8,
   "id": "2d6802bb",
   "metadata": {},
   "outputs": [],
   "source": [
    "#subselecting the relevant sensors\n",
    "at_data = at_data[at_data[\"device\"].isin([2930042154,2930042168])]"
   ]
  },
  {
   "cell_type": "markdown",
   "id": "4b281b18",
   "metadata": {},
   "source": [
    "## Data Availability"
   ]
  },
  {
   "cell_type": "code",
   "execution_count": 9,
   "id": "0ddf2490",
   "metadata": {},
   "outputs": [],
   "source": [
    "summary = visualize.AirThingsSummary()"
   ]
  },
  {
   "cell_type": "code",
   "execution_count": 10,
   "id": "56a7aea6",
   "metadata": {
    "scrolled": false
   },
   "outputs": [
    {
     "name": "stdout",
     "output_type": "stream",
     "text": [
      "2930042154\n"
     ]
    },
    {
     "data": {
      "image/png": "[encoded data removed]",
      "text/plain": [
       "<Figure size 1152x288 with 1 Axes>"
      ]
     },
     "metadata": {
      "needs_background": "light"
     },
     "output_type": "display_data"
    },
    {
     "name": "stdout",
     "output_type": "stream",
     "text": [
      "2930042168\n"
     ]
    },
    {
     "data": {
      "image/png": "[encoded data removed]",
      "text/plain": [
       "<Figure size 1152x288 with 1 Axes>"
      ]
     },
     "metadata": {
      "needs_background": "light"
     },
     "output_type": "display_data"
    }
   ],
   "source": [
    "for device in at_data[\"device\"].unique():\n",
    "    data_device = at_data[at_data[\"device\"] == device]\n",
    "    print(device)\n",
    "    summary.plot_data_availability(data_device)"
   ]
  },
  {
   "cell_type": "markdown",
   "id": "8264f71c",
   "metadata": {},
   "source": [
    "<div class=\"alert alert-warning\">\n",
    "    \n",
    "Not exactly sure what the issue with 2168 was because the batteries weren't dead but pulling and replacing them seem to work fine. 2154 still needs new batteries.\n",
    "\n",
    "</div>"
   ]
  },
  {
   "cell_type": "markdown",
   "id": "1cb8dba6",
   "metadata": {},
   "source": [
    "---"
   ]
  }
 ],
 "metadata": {
  "kernelspec": {
   "display_name": "Python 3",
   "language": "python",
   "name": "python3"
  },
  "language_info": {
   "codemirror_mode": {
    "name": "ipython",
    "version": 3
   },
   "file_extension": ".py",
   "mimetype": "text/x-python",
   "name": "python",
   "nbconvert_exporter": "python",
   "pygments_lexer": "ipython3",
   "version": "3.8.8"
  }
 },
 "nbformat": 4,
 "nbformat_minor": 5
}
