{
 "cells": [
  {
   "cell_type": "markdown",
   "id": "cfa08dbf",
   "metadata": {},
   "source": [
    "# Creating Datasets: AirThings\n",
    "Documentation on source code used to generate the AirThings datasets."
   ]
  },
  {
   "cell_type": "code",
   "execution_count": 47,
   "id": "3472a0c0",
   "metadata": {},
   "outputs": [
    {
     "name": "stdout",
     "output_type": "stream",
     "text": [
      "The autoreload extension is already loaded. To reload it, use:\n",
      "  %reload_ext autoreload\n"
     ]
    }
   ],
   "source": [
    "import matplotlib.pyplot as plt\n",
    "import matplotlib.dates as mdates\n",
    "import seaborn as sns\n",
    "\n",
    "import pandas as pd\n",
    "import numpy as np\n",
    "\n",
    "import sys\n",
    "sys.path.append(\"../\")\n",
    "from src.data import make_purpleair_dataset, make_airthings_dataset\n",
    "\n",
    "#import warnings\n",
    "#warnings.filterwarnings('ignore')\n",
    "\n",
    "%load_ext autoreload\n",
    "%autoreload 2"
   ]
  },
  {
   "cell_type": "markdown",
   "id": "d2273a25",
   "metadata": {},
   "source": [
    "---"
   ]
  },
  {
   "cell_type": "markdown",
   "id": "54af374d",
   "metadata": {},
   "source": [
    "# Table of Contents\n",
    "1. [Creating an Object](#instantiating)\n",
    "2. [Generating the Dataset](#generating_dataset)"
   ]
  },
  {
   "cell_type": "markdown",
   "id": "2c7d6e95",
   "metadata": {},
   "source": [
    "---"
   ]
  },
  {
   "cell_type": "markdown",
   "id": "f5249130",
   "metadata": {},
   "source": [
    "<a id=\"instantiating\"></a>"
   ]
  },
  {
   "cell_type": "markdown",
   "id": "e5a69308",
   "metadata": {},
   "source": [
    "# Creating a `Process` Object\n",
    "The line to create a `Process` object to pull AirThings data is shown below:"
   ]
  },
  {
   "cell_type": "code",
   "execution_count": 3,
   "id": "4f203834",
   "metadata": {},
   "outputs": [],
   "source": [
    "at_processor = make_airthings_dataset.Process(start_date=\"20220501\",end_date=\"20220515\",ip_filename=None)"
   ]
  },
  {
   "cell_type": "markdown",
   "id": "ac414cb7",
   "metadata": {},
   "source": [
    "where the three possible input parameters are:\n",
    "* `start_date`: string in the format %Y%m%d (or yyyymmdd) specifying the first date of data to include\n",
    "* `end_date`: string in the format %Y%m%d (or yyyymmdd) specifying the last date of data to include\n",
    "* `ip_filename`: string specifying the filename that contains the IP addresses in the /references/meta_data/ directory. None, specifies the file \"airthings_meta.csv\" which should be the default."
   ]
  },
  {
   "cell_type": "markdown",
   "id": "138b969e",
   "metadata": {},
   "source": [
    "---"
   ]
  },
  {
   "cell_type": "markdown",
   "id": "60d03e88",
   "metadata": {},
   "source": [
    "<a id=\"generating_dataset\"></a>"
   ]
  },
  {
   "cell_type": "markdown",
   "id": "3f8785b5",
   "metadata": {},
   "source": [
    "# Generating the Dataset\n",
    "The `make_dataset()` method creates the aggregated dataset by running subsequent methods."
   ]
  },
  {
   "cell_type": "markdown",
   "id": "a924821e",
   "metadata": {},
   "source": [
    "## `download`\n",
    "The `download` method takes a single IP address and downloads all available data from that device."
   ]
  },
  {
   "cell_type": "code",
   "execution_count": 11,
   "id": "264e31a7",
   "metadata": {},
   "outputs": [],
   "source": [
    "at_processor.download(\"at1730\")"
   ]
  },
  {
   "cell_type": "markdown",
   "id": "4a84a131",
   "metadata": {},
   "source": [
    "Data are stored in the /data/interim/DATA location"
   ]
  },
  {
   "cell_type": "code",
   "execution_count": 12,
   "id": "8647cbcd",
   "metadata": {},
   "outputs": [
    {
     "data": {
      "text/html": [
       "<div>\n",
       "<style scoped>\n",
       "    .dataframe tbody tr th:only-of-type {\n",
       "        vertical-align: middle;\n",
       "    }\n",
       "\n",
       "    .dataframe tbody tr th {\n",
       "        vertical-align: top;\n",
       "    }\n",
       "\n",
       "    .dataframe thead th {\n",
       "        text-align: right;\n",
       "    }\n",
       "</style>\n",
       "<table border=\"1\" class=\"dataframe\">\n",
       "  <thead>\n",
       "    <tr style=\"text-align: right;\">\n",
       "      <th></th>\n",
       "      <th>rh</th>\n",
       "      <th>radon_acute</th>\n",
       "      <th>radon_chronic</th>\n",
       "      <th>temperature</th>\n",
       "      <th>pressure</th>\n",
       "      <th>co2</th>\n",
       "      <th>voc</th>\n",
       "    </tr>\n",
       "    <tr>\n",
       "      <th>timestamp</th>\n",
       "      <th></th>\n",
       "      <th></th>\n",
       "      <th></th>\n",
       "      <th></th>\n",
       "      <th></th>\n",
       "      <th></th>\n",
       "      <th></th>\n",
       "    </tr>\n",
       "  </thead>\n",
       "  <tbody>\n",
       "    <tr>\n",
       "      <th>2022-05-10 00:14:27</th>\n",
       "      <td>52.5</td>\n",
       "      <td>9.0</td>\n",
       "      <td>9.0</td>\n",
       "      <td>23.48</td>\n",
       "      <td>994.16</td>\n",
       "      <td>547.0</td>\n",
       "      <td>61.0</td>\n",
       "    </tr>\n",
       "    <tr>\n",
       "      <th>2022-05-10 00:29:14</th>\n",
       "      <td>52.5</td>\n",
       "      <td>9.0</td>\n",
       "      <td>9.0</td>\n",
       "      <td>23.48</td>\n",
       "      <td>994.12</td>\n",
       "      <td>541.0</td>\n",
       "      <td>48.0</td>\n",
       "    </tr>\n",
       "    <tr>\n",
       "      <th>2022-05-10 00:44:14</th>\n",
       "      <td>53.0</td>\n",
       "      <td>9.0</td>\n",
       "      <td>9.0</td>\n",
       "      <td>23.48</td>\n",
       "      <td>994.22</td>\n",
       "      <td>537.0</td>\n",
       "      <td>48.0</td>\n",
       "    </tr>\n",
       "    <tr>\n",
       "      <th>2022-05-10 00:59:16</th>\n",
       "      <td>NaN</td>\n",
       "      <td>NaN</td>\n",
       "      <td>NaN</td>\n",
       "      <td>NaN</td>\n",
       "      <td>NaN</td>\n",
       "      <td>NaN</td>\n",
       "      <td>NaN</td>\n",
       "    </tr>\n",
       "    <tr>\n",
       "      <th>2022-05-10 01:14:14</th>\n",
       "      <td>53.0</td>\n",
       "      <td>7.0</td>\n",
       "      <td>7.0</td>\n",
       "      <td>23.49</td>\n",
       "      <td>994.38</td>\n",
       "      <td>579.0</td>\n",
       "      <td>52.0</td>\n",
       "    </tr>\n",
       "  </tbody>\n",
       "</table>\n",
       "</div>"
      ],
      "text/plain": [
       "                       rh  radon_acute  radon_chronic  temperature  pressure  \\\n",
       "timestamp                                                                      \n",
       "2022-05-10 00:14:27  52.5          9.0            9.0        23.48    994.16   \n",
       "2022-05-10 00:29:14  52.5          9.0            9.0        23.48    994.12   \n",
       "2022-05-10 00:44:14  53.0          9.0            9.0        23.48    994.22   \n",
       "2022-05-10 00:59:16   NaN          NaN            NaN          NaN       NaN   \n",
       "2022-05-10 01:14:14  53.0          7.0            7.0        23.49    994.38   \n",
       "\n",
       "                       co2   voc  \n",
       "timestamp                         \n",
       "2022-05-10 00:14:27  547.0  61.0  \n",
       "2022-05-10 00:29:14  541.0  48.0  \n",
       "2022-05-10 00:44:14  537.0  48.0  \n",
       "2022-05-10 00:59:16    NaN   NaN  \n",
       "2022-05-10 01:14:14  579.0  52.0  "
      ]
     },
     "execution_count": 12,
     "metadata": {},
     "output_type": "execute_result"
    }
   ],
   "source": [
    "temp = pd.read_csv(\"../data/interim/DATA/2930041730-2022-05-10.csv\",\n",
    "            index_col=0,parse_dates=True,infer_datetime_format=True)\n",
    "temp.head()"
   ]
  },
  {
   "cell_type": "markdown",
   "id": "6bf7fd2f",
   "metadata": {},
   "source": [
    "## `perform_quality_checks`\n",
    "This method cleans the data by removing values based on the z-score"
   ]
  },
  {
   "cell_type": "markdown",
   "id": "e8688f36",
   "metadata": {},
   "source": [
    "### Getting dummy data"
   ]
  },
  {
   "cell_type": "code",
   "execution_count": 34,
   "id": "3473eece",
   "metadata": {},
   "outputs": [],
   "source": [
    "# data from one device\n",
    "at_processor.download(\"at1730\")\n",
    "temp1 = pd.read_csv(\"../data/interim/DATA/2930041730-2022-05-10.csv\",\n",
    "            index_col=0,parse_dates=True,infer_datetime_format=True)\n",
    "temp1[\"device\"] = \"1730\"\n",
    "# data from another device\n",
    "at_processor.download(\"at2168\")\n",
    "temp2 = pd.read_csv(\"../data/interim/DATA/2930042168-2022-05-10.csv\",\n",
    "            index_col=0,parse_dates=True,infer_datetime_format=True)\n",
    "temp2[\"device\"] = \"2168\"\n",
    "raw_temp = pd.concat([temp1,temp2],axis=0)"
   ]
  },
  {
   "cell_type": "markdown",
   "id": "5b57625e",
   "metadata": {},
   "source": [
    "### Filtering"
   ]
  },
  {
   "cell_type": "code",
   "execution_count": 39,
   "id": "dc1184bc",
   "metadata": {},
   "outputs": [],
   "source": [
    "qc_temp = at_processor.perform_quality_checks(raw_temp)"
   ]
  },
  {
   "cell_type": "code",
   "execution_count": 40,
   "id": "7035a3a4",
   "metadata": {},
   "outputs": [
    {
     "name": "stdout",
     "output_type": "stream",
     "text": [
      "Observations without QC:\t 1526\n",
      "Observations with QC:\t 1480\n"
     ]
    }
   ],
   "source": [
    "print(\"Observations without QC:\\t\",len(raw_temp.dropna(subset=[\"rh\",\"temperature\",\"co2\",\"voc\"])))\n",
    "print(\"Observations with QC:\\t\",len(qc_temp.dropna(subset=[\"rh\",\"temperature\",\"co2\",\"voc\"])))"
   ]
  },
  {
   "cell_type": "markdown",
   "id": "b7e6d373",
   "metadata": {},
   "source": [
    "## `make_dataset`\n",
    "This method takes the two previous methods to download data, combine datasets, and perform quality checks.\n",
    "\n",
    "_this method takes some time since it is downloading data from each device_"
   ]
  },
  {
   "cell_type": "code",
   "execution_count": 48,
   "id": "227a4f6d",
   "metadata": {},
   "outputs": [],
   "source": [
    "at_processor.make_dataset()"
   ]
  },
  {
   "cell_type": "markdown",
   "id": "244f5aea",
   "metadata": {},
   "source": [
    "and afterwards, we have created a new class variable `processed` which contains the processed AirThings data:"
   ]
  },
  {
   "cell_type": "code",
   "execution_count": 49,
   "id": "7d625fe5",
   "metadata": {},
   "outputs": [
    {
     "data": {
      "text/html": [
       "<div>\n",
       "<style scoped>\n",
       "    .dataframe tbody tr th:only-of-type {\n",
       "        vertical-align: middle;\n",
       "    }\n",
       "\n",
       "    .dataframe tbody tr th {\n",
       "        vertical-align: top;\n",
       "    }\n",
       "\n",
       "    .dataframe thead th {\n",
       "        text-align: right;\n",
       "    }\n",
       "</style>\n",
       "<table border=\"1\" class=\"dataframe\">\n",
       "  <thead>\n",
       "    <tr style=\"text-align: right;\">\n",
       "      <th></th>\n",
       "      <th>rh</th>\n",
       "      <th>radon_acute</th>\n",
       "      <th>radon_chronic</th>\n",
       "      <th>temperature</th>\n",
       "      <th>pressure</th>\n",
       "      <th>co2</th>\n",
       "      <th>voc</th>\n",
       "    </tr>\n",
       "  </thead>\n",
       "  <tbody>\n",
       "    <tr>\n",
       "      <th>count</th>\n",
       "      <td>10838.000000</td>\n",
       "      <td>10861.000000</td>\n",
       "      <td>10861.000000</td>\n",
       "      <td>10838.000000</td>\n",
       "      <td>10861.000000</td>\n",
       "      <td>10838.000000</td>\n",
       "      <td>10842.000000</td>\n",
       "    </tr>\n",
       "    <tr>\n",
       "      <th>mean</th>\n",
       "      <td>54.937858</td>\n",
       "      <td>6.500691</td>\n",
       "      <td>6.615229</td>\n",
       "      <td>22.790766</td>\n",
       "      <td>996.908868</td>\n",
       "      <td>550.040137</td>\n",
       "      <td>11535.195628</td>\n",
       "    </tr>\n",
       "    <tr>\n",
       "      <th>std</th>\n",
       "      <td>1.786493</td>\n",
       "      <td>6.631426</td>\n",
       "      <td>6.187427</td>\n",
       "      <td>0.410989</td>\n",
       "      <td>14.682295</td>\n",
       "      <td>47.434908</td>\n",
       "      <td>24868.884219</td>\n",
       "    </tr>\n",
       "    <tr>\n",
       "      <th>min</th>\n",
       "      <td>48.500000</td>\n",
       "      <td>0.000000</td>\n",
       "      <td>0.000000</td>\n",
       "      <td>22.000000</td>\n",
       "      <td>989.920000</td>\n",
       "      <td>455.000000</td>\n",
       "      <td>0.000000</td>\n",
       "    </tr>\n",
       "    <tr>\n",
       "      <th>25%</th>\n",
       "      <td>53.500000</td>\n",
       "      <td>1.000000</td>\n",
       "      <td>4.000000</td>\n",
       "      <td>22.480000</td>\n",
       "      <td>994.420000</td>\n",
       "      <td>517.000000</td>\n",
       "      <td>61.000000</td>\n",
       "    </tr>\n",
       "    <tr>\n",
       "      <th>50%</th>\n",
       "      <td>55.000000</td>\n",
       "      <td>5.000000</td>\n",
       "      <td>5.000000</td>\n",
       "      <td>22.730000</td>\n",
       "      <td>995.800000</td>\n",
       "      <td>540.000000</td>\n",
       "      <td>78.000000</td>\n",
       "    </tr>\n",
       "    <tr>\n",
       "      <th>75%</th>\n",
       "      <td>56.500000</td>\n",
       "      <td>10.000000</td>\n",
       "      <td>6.000000</td>\n",
       "      <td>22.930000</td>\n",
       "      <td>998.520000</td>\n",
       "      <td>560.000000</td>\n",
       "      <td>144.000000</td>\n",
       "    </tr>\n",
       "    <tr>\n",
       "      <th>max</th>\n",
       "      <td>60.000000</td>\n",
       "      <td>32.000000</td>\n",
       "      <td>30.000000</td>\n",
       "      <td>24.010000</td>\n",
       "      <td>1310.700000</td>\n",
       "      <td>750.000000</td>\n",
       "      <td>65535.000000</td>\n",
       "    </tr>\n",
       "  </tbody>\n",
       "</table>\n",
       "</div>"
      ],
      "text/plain": [
       "                 rh   radon_acute  radon_chronic   temperature      pressure  \\\n",
       "count  10838.000000  10861.000000   10861.000000  10838.000000  10861.000000   \n",
       "mean      54.937858      6.500691       6.615229     22.790766    996.908868   \n",
       "std        1.786493      6.631426       6.187427      0.410989     14.682295   \n",
       "min       48.500000      0.000000       0.000000     22.000000    989.920000   \n",
       "25%       53.500000      1.000000       4.000000     22.480000    994.420000   \n",
       "50%       55.000000      5.000000       5.000000     22.730000    995.800000   \n",
       "75%       56.500000     10.000000       6.000000     22.930000    998.520000   \n",
       "max       60.000000     32.000000      30.000000     24.010000   1310.700000   \n",
       "\n",
       "                co2           voc  \n",
       "count  10838.000000  10842.000000  \n",
       "mean     550.040137  11535.195628  \n",
       "std       47.434908  24868.884219  \n",
       "min      455.000000      0.000000  \n",
       "25%      517.000000     61.000000  \n",
       "50%      540.000000     78.000000  \n",
       "75%      560.000000    144.000000  \n",
       "max      750.000000  65535.000000  "
      ]
     },
     "execution_count": 49,
     "metadata": {},
     "output_type": "execute_result"
    }
   ],
   "source": [
    "at_processor.processed.describe()"
   ]
  },
  {
   "cell_type": "markdown",
   "id": "efec8c61",
   "metadata": {},
   "source": [
    "---"
   ]
  }
 ],
 "metadata": {
  "kernelspec": {
   "display_name": "Python 3",
   "language": "python",
   "name": "python3"
  },
  "language_info": {
   "codemirror_mode": {
    "name": "ipython",
    "version": 3
   },
   "file_extension": ".py",
   "mimetype": "text/x-python",
   "name": "python",
   "nbconvert_exporter": "python",
   "pygments_lexer": "ipython3",
   "version": "3.8.8"
  }
 },
 "nbformat": 4,
 "nbformat_minor": 5
}
