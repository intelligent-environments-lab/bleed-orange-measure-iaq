{
 "cells": [
  {
   "cell_type": "markdown",
   "id": "439298af",
   "metadata": {},
   "source": [
    "# ECJ Beta Test: Data Summary and Exploration\n",
    "A look at the data we gathered as part of the ECJ Beta test."
   ]
  },
  {
   "cell_type": "code",
   "execution_count": 1,
   "id": "729ad922",
   "metadata": {},
   "outputs": [],
   "source": [
    "import sys\n",
    "sys.path.append(\"../\")\n",
    "from src.data import make_airthings_dataset\n",
    "\n",
    "import pandas as pd\n",
    "import numpy as np\n",
    "\n",
    "%load_ext autoreload\n",
    "%autoreload 2"
   ]
  },
  {
   "cell_type": "markdown",
   "id": "59a3254f",
   "metadata": {},
   "source": [
    "<a id=\"toc\"></a>"
   ]
  },
  {
   "cell_type": "markdown",
   "id": "dbdabcb0",
   "metadata": {},
   "source": [
    "# Table of Contents\n",
    "1. [Experiment Details](#details)\n",
    "2. [Full Beta Test](#beta)\n",
    "3. [AirThings and Beacon Integration](#airthings_beacon_integration)"
   ]
  },
  {
   "cell_type": "markdown",
   "id": "afd3cd28",
   "metadata": {},
   "source": [
    "---"
   ]
  },
  {
   "cell_type": "markdown",
   "id": "dcb9b0bc",
   "metadata": {},
   "source": [
    "<a id=\"details\"></a>"
   ]
  },
  {
   "cell_type": "markdown",
   "id": "43fadf59",
   "metadata": {},
   "source": [
    "# Experiment Details\n",
    "Important Dates:\n",
    "* Deployment Start: 02/10/2022\n",
    "* RPi Beacon Deployment Start (3rd Floor): 03/01/2022\n",
    "* Deployment End (5th Floor): 03/10/2022\n",
    "* Deployment End (3rd Floor): 03/29/2022\n",
    "\n",
    "We have two separate sub-tests we want to consider:\n",
    "1. [Full Beta Test](#beta): Data should be available from all _ten_ devices from 02/10 to 03/10\n",
    "2. [Third Floor AirThings and Beacon Integration Test](#airthings_beacon_integration): Data should be available from _five_ devices from 03/01 to 03/29"
   ]
  },
  {
   "cell_type": "markdown",
   "id": "12905b3d",
   "metadata": {},
   "source": [
    "---"
   ]
  },
  {
   "cell_type": "markdown",
   "id": "0070a688",
   "metadata": {},
   "source": [
    "<a id=\"beta\"></a>"
   ]
  },
  {
   "cell_type": "markdown",
   "id": "4cacedb0",
   "metadata": {},
   "source": [
    "[Back to ToC](#toc)\n",
    "# Beta Test"
   ]
  },
  {
   "cell_type": "markdown",
   "id": "9431f0ba",
   "metadata": {},
   "source": [
    "---"
   ]
  },
  {
   "cell_type": "markdown",
   "id": "91e6f014",
   "metadata": {},
   "source": [
    "<a id=\"airthings_beacon_integration\"></a>"
   ]
  },
  {
   "cell_type": "markdown",
   "id": "1bd18ee0",
   "metadata": {},
   "source": [
    "[Back to ToC](#toc)\n",
    "# AirThings and Beacon Integration Test\n",
    "I developed a script that pulls data from each of the RPi Beacons based on their Tailscale IP address. See the [source code](https://github.com/intelligent-environments-lab/bleed-orange-measure-iaq/blob/master/src/data/make_airthings_dataset.py).\n",
    "\n",
    "The data imported below is the output from running that script."
   ]
  },
  {
   "cell_type": "code",
   "execution_count": 4,
   "id": "3c6c3075",
   "metadata": {},
   "outputs": [],
   "source": [
    "at_data = pd.read_csv(\"../data/processed/airthings-data.csv\",\n",
    "                      index_col=\"timestamp\",parse_dates=True,infer_datetime_format=True)"
   ]
  },
  {
   "cell_type": "code",
   "execution_count": 5,
   "id": "c327cf24",
   "metadata": {},
   "outputs": [
    {
     "data": {
      "text/plain": [
       "array([2930041730, 2930041961, 2930042307, 2930042428, 2930042521])"
      ]
     },
     "execution_count": 5,
     "metadata": {},
     "output_type": "execute_result"
    }
   ],
   "source": [
    "at_data[\"device\"].unique()"
   ]
  },
  {
   "cell_type": "code",
   "execution_count": null,
   "id": "430ee828",
   "metadata": {},
   "outputs": [],
   "source": []
  }
 ],
 "metadata": {
  "kernelspec": {
   "display_name": "Python 3",
   "language": "python",
   "name": "python3"
  },
  "language_info": {
   "codemirror_mode": {
    "name": "ipython",
    "version": 3
   },
   "file_extension": ".py",
   "mimetype": "text/x-python",
   "name": "python",
   "nbconvert_exporter": "python",
   "pygments_lexer": "ipython3",
   "version": "3.8.8"
  }
 },
 "nbformat": 4,
 "nbformat_minor": 5
}
