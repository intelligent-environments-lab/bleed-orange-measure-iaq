{
 "cells": [
  {
   "cell_type": "markdown",
   "id": "439298af",
   "metadata": {},
   "source": [
    "# ECJ Beta Test: Data Summary and Exploration\n",
    "A look at the data we gathered as part of the ECJ Beta test."
   ]
  },
  {
   "cell_type": "code",
   "execution_count": 28,
   "id": "729ad922",
   "metadata": {},
   "outputs": [
    {
     "name": "stdout",
     "output_type": "stream",
     "text": [
      "The autoreload extension is already loaded. To reload it, use:\n",
      "  %reload_ext autoreload\n"
     ]
    }
   ],
   "source": [
    "import sys\n",
    "sys.path.append(\"../\")\n",
    "from src.data import make_airthings_dataset\n",
    "\n",
    "import pandas as pd\n",
    "import numpy as np\n",
    "\n",
    "%load_ext autoreload\n",
    "%autoreload 2"
   ]
  },
  {
   "cell_type": "code",
   "execution_count": 32,
   "id": "3c6c3075",
   "metadata": {},
   "outputs": [],
   "source": [
    "at_data = pd.read_csv(\"../data/processed/airthings-data.csv\",\n",
    "                      index_col=\"timestamp\",parse_dates=True,infer_datetime_format=True)"
   ]
  },
  {
   "cell_type": "code",
   "execution_count": 34,
   "id": "c327cf24",
   "metadata": {},
   "outputs": [
    {
     "data": {
      "text/plain": [
       "array([2930041730, 2930041961, 2930042307, 2930042428, 2930042521])"
      ]
     },
     "execution_count": 34,
     "metadata": {},
     "output_type": "execute_result"
    }
   ],
   "source": [
    "at_data[\"device\"].unique()"
   ]
  },
  {
   "cell_type": "code",
   "execution_count": null,
   "id": "5b1f65a9",
   "metadata": {},
   "outputs": [],
   "source": []
  }
 ],
 "metadata": {
  "kernelspec": {
   "display_name": "Python 3",
   "language": "python",
   "name": "python3"
  },
  "language_info": {
   "codemirror_mode": {
    "name": "ipython",
    "version": 3
   },
   "file_extension": ".py",
   "mimetype": "text/x-python",
   "name": "python",
   "nbconvert_exporter": "python",
   "pygments_lexer": "ipython3",
   "version": "3.8.8"
  }
 },
 "nbformat": 4,
 "nbformat_minor": 5
}
